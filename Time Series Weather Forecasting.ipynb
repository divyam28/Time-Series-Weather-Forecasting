{
 "cells": [
  {
   "cell_type": "code",
   "execution_count": 1,
   "metadata": {},
   "outputs": [],
   "source": [
    "#Import Libraries\n",
    "import pandas as pd\n",
    "import numpy as np\n",
    "import tensorflow as tf\n",
    "\n",
    "import matplotlib.pyplot as plt\n",
    "%matplotlib inline\n",
    "\n",
    "from sklearn.metrics import mean_absolute_error"
   ]
  },
  {
   "cell_type": "code",
   "execution_count": 2,
   "metadata": {},
   "outputs": [],
   "source": [
    "data = pd.read_csv('ps6_trainvalid.csv')"
   ]
  },
  {
   "cell_type": "markdown",
   "metadata": {},
   "source": [
    "# Data Preprocessing"
   ]
  },
  {
   "cell_type": "code",
   "execution_count": 3,
   "metadata": {},
   "outputs": [],
   "source": [
    "#Drop first row of null values\n",
    "data = data.drop(index=0)"
   ]
  },
  {
   "cell_type": "code",
   "execution_count": 4,
   "metadata": {},
   "outputs": [
    {
     "data": {
      "text/html": [
       "<div>\n",
       "<style scoped>\n",
       "    .dataframe tbody tr th:only-of-type {\n",
       "        vertical-align: middle;\n",
       "    }\n",
       "\n",
       "    .dataframe tbody tr th {\n",
       "        vertical-align: top;\n",
       "    }\n",
       "\n",
       "    .dataframe thead th {\n",
       "        text-align: right;\n",
       "    }\n",
       "</style>\n",
       "<table border=\"1\" class=\"dataframe\">\n",
       "  <thead>\n",
       "    <tr style=\"text-align: right;\">\n",
       "      <th></th>\n",
       "      <th>temperature</th>\n",
       "      <th>humidity</th>\n",
       "      <th>pressure</th>\n",
       "      <th>wind_direction</th>\n",
       "      <th>wind_speed</th>\n",
       "    </tr>\n",
       "  </thead>\n",
       "  <tbody>\n",
       "    <tr>\n",
       "      <th>count</th>\n",
       "      <td>45010.000000</td>\n",
       "      <td>44861.000000</td>\n",
       "      <td>44761.000000</td>\n",
       "      <td>45012.000000</td>\n",
       "      <td>45012.000000</td>\n",
       "    </tr>\n",
       "    <tr>\n",
       "      <th>mean</th>\n",
       "      <td>290.841547</td>\n",
       "      <td>62.823767</td>\n",
       "      <td>1015.915127</td>\n",
       "      <td>139.733804</td>\n",
       "      <td>1.220652</td>\n",
       "    </tr>\n",
       "    <tr>\n",
       "      <th>std</th>\n",
       "      <td>6.465152</td>\n",
       "      <td>21.786687</td>\n",
       "      <td>11.316175</td>\n",
       "      <td>105.545576</td>\n",
       "      <td>1.435687</td>\n",
       "    </tr>\n",
       "    <tr>\n",
       "      <th>min</th>\n",
       "      <td>266.503667</td>\n",
       "      <td>5.000000</td>\n",
       "      <td>886.000000</td>\n",
       "      <td>0.000000</td>\n",
       "      <td>0.000000</td>\n",
       "    </tr>\n",
       "    <tr>\n",
       "      <th>25%</th>\n",
       "      <td>286.370000</td>\n",
       "      <td>48.000000</td>\n",
       "      <td>1013.000000</td>\n",
       "      <td>29.000000</td>\n",
       "      <td>0.000000</td>\n",
       "    </tr>\n",
       "    <tr>\n",
       "      <th>50%</th>\n",
       "      <td>290.530000</td>\n",
       "      <td>66.000000</td>\n",
       "      <td>1016.000000</td>\n",
       "      <td>140.000000</td>\n",
       "      <td>1.000000</td>\n",
       "    </tr>\n",
       "    <tr>\n",
       "      <th>75%</th>\n",
       "      <td>295.080000</td>\n",
       "      <td>81.000000</td>\n",
       "      <td>1021.000000</td>\n",
       "      <td>230.000000</td>\n",
       "      <td>2.000000</td>\n",
       "    </tr>\n",
       "    <tr>\n",
       "      <th>max</th>\n",
       "      <td>315.470000</td>\n",
       "      <td>100.000000</td>\n",
       "      <td>1044.000000</td>\n",
       "      <td>360.000000</td>\n",
       "      <td>17.000000</td>\n",
       "    </tr>\n",
       "  </tbody>\n",
       "</table>\n",
       "</div>"
      ],
      "text/plain": [
       "        temperature      humidity      pressure  wind_direction    wind_speed\n",
       "count  45010.000000  44861.000000  44761.000000    45012.000000  45012.000000\n",
       "mean     290.841547     62.823767   1015.915127      139.733804      1.220652\n",
       "std        6.465152     21.786687     11.316175      105.545576      1.435687\n",
       "min      266.503667      5.000000    886.000000        0.000000      0.000000\n",
       "25%      286.370000     48.000000   1013.000000       29.000000      0.000000\n",
       "50%      290.530000     66.000000   1016.000000      140.000000      1.000000\n",
       "75%      295.080000     81.000000   1021.000000      230.000000      2.000000\n",
       "max      315.470000    100.000000   1044.000000      360.000000     17.000000"
      ]
     },
     "execution_count": 4,
     "metadata": {},
     "output_type": "execute_result"
    }
   ],
   "source": [
    "data.describe()"
   ]
  },
  {
   "cell_type": "code",
   "execution_count": 5,
   "metadata": {},
   "outputs": [],
   "source": [
    "#filling null values for temp, pressure, humidity\n",
    "data['temperature'] = data.temperature.fillna(method='bfill')\n",
    "data['humidity'] = data.humidity.fillna(method='bfill')\n",
    "data['pressure'] = data.pressure.fillna(method='bfill')"
   ]
  },
  {
   "cell_type": "code",
   "execution_count": 6,
   "metadata": {},
   "outputs": [],
   "source": [
    "#Joining wind direction and wind speed to wind vector\n",
    "wd_rad = data.wind_direction*np.pi/180\n",
    "data['Wx'] = data.wind_speed*np.cos(wd_rad)\n",
    "data['Wy'] = data.wind_speed*np.sin(wd_rad)\n",
    "\n",
    "data = data.drop(['wind_direction','wind_speed'],axis=1)"
   ]
  },
  {
   "cell_type": "code",
   "execution_count": 7,
   "metadata": {},
   "outputs": [],
   "source": [
    "#Convert date time into hour timestamp\n",
    "import datetime\n",
    "data['datetime'] = pd.to_datetime(data['datetime'])\n",
    "timestamp_h = data['datetime'].map(datetime.datetime.timestamp)/3600"
   ]
  },
  {
   "cell_type": "code",
   "execution_count": 8,
   "metadata": {},
   "outputs": [],
   "source": [
    "#Adding sin and cos terms for periodicity\n",
    "day = 24\n",
    "year = (365.2425)*day\n",
    "\n",
    "data['Day sin'] = np.sin(timestamp_h * (2 * np.pi / day))\n",
    "data['Day cos'] = np.cos(timestamp_h * (2 * np.pi / day))\n",
    "data['Year sin'] = np.sin(timestamp_h * (2 * np.pi / year))\n",
    "data['Year cos'] = np.cos(timestamp_h * (2 * np.pi / year))"
   ]
  },
  {
   "cell_type": "code",
   "execution_count": 9,
   "metadata": {},
   "outputs": [],
   "source": [
    "#dropping datetime and weather\n",
    "data = data.drop(['weather','datetime'],axis=1)"
   ]
  },
  {
   "cell_type": "code",
   "execution_count": 10,
   "metadata": {},
   "outputs": [
    {
     "data": {
      "text/html": [
       "<div>\n",
       "<style scoped>\n",
       "    .dataframe tbody tr th:only-of-type {\n",
       "        vertical-align: middle;\n",
       "    }\n",
       "\n",
       "    .dataframe tbody tr th {\n",
       "        vertical-align: top;\n",
       "    }\n",
       "\n",
       "    .dataframe thead th {\n",
       "        text-align: right;\n",
       "    }\n",
       "</style>\n",
       "<table border=\"1\" class=\"dataframe\">\n",
       "  <thead>\n",
       "    <tr style=\"text-align: right;\">\n",
       "      <th></th>\n",
       "      <th>temperature</th>\n",
       "      <th>humidity</th>\n",
       "      <th>pressure</th>\n",
       "      <th>Wx</th>\n",
       "      <th>Wy</th>\n",
       "      <th>Day sin</th>\n",
       "      <th>Day cos</th>\n",
       "      <th>Year sin</th>\n",
       "      <th>Year cos</th>\n",
       "    </tr>\n",
       "  </thead>\n",
       "  <tbody>\n",
       "    <tr>\n",
       "      <th>1</th>\n",
       "      <td>291.870000</td>\n",
       "      <td>88.0</td>\n",
       "      <td>1013.0</td>\n",
       "      <td>0.000000</td>\n",
       "      <td>0.000000</td>\n",
       "      <td>-8.660254e-01</td>\n",
       "      <td>5.000000e-01</td>\n",
       "      <td>-0.999924</td>\n",
       "      <td>0.012325</td>\n",
       "    </tr>\n",
       "    <tr>\n",
       "      <th>2</th>\n",
       "      <td>291.868186</td>\n",
       "      <td>88.0</td>\n",
       "      <td>1013.0</td>\n",
       "      <td>0.000000</td>\n",
       "      <td>0.000000</td>\n",
       "      <td>-7.071068e-01</td>\n",
       "      <td>7.071068e-01</td>\n",
       "      <td>-0.999915</td>\n",
       "      <td>0.013041</td>\n",
       "    </tr>\n",
       "    <tr>\n",
       "      <th>3</th>\n",
       "      <td>291.862844</td>\n",
       "      <td>88.0</td>\n",
       "      <td>1013.0</td>\n",
       "      <td>0.000000</td>\n",
       "      <td>0.000000</td>\n",
       "      <td>-5.000000e-01</td>\n",
       "      <td>8.660254e-01</td>\n",
       "      <td>-0.999905</td>\n",
       "      <td>0.013758</td>\n",
       "    </tr>\n",
       "    <tr>\n",
       "      <th>4</th>\n",
       "      <td>291.857503</td>\n",
       "      <td>88.0</td>\n",
       "      <td>1013.0</td>\n",
       "      <td>0.000000</td>\n",
       "      <td>0.000000</td>\n",
       "      <td>-2.588190e-01</td>\n",
       "      <td>9.659258e-01</td>\n",
       "      <td>-0.999895</td>\n",
       "      <td>0.014475</td>\n",
       "    </tr>\n",
       "    <tr>\n",
       "      <th>5</th>\n",
       "      <td>291.852162</td>\n",
       "      <td>88.0</td>\n",
       "      <td>1013.0</td>\n",
       "      <td>0.000000</td>\n",
       "      <td>0.000000</td>\n",
       "      <td>-6.304366e-12</td>\n",
       "      <td>1.000000e+00</td>\n",
       "      <td>-0.999885</td>\n",
       "      <td>0.015192</td>\n",
       "    </tr>\n",
       "    <tr>\n",
       "      <th>...</th>\n",
       "      <td>...</td>\n",
       "      <td>...</td>\n",
       "      <td>...</td>\n",
       "      <td>...</td>\n",
       "      <td>...</td>\n",
       "      <td>...</td>\n",
       "      <td>...</td>\n",
       "      <td>...</td>\n",
       "      <td>...</td>\n",
       "    </tr>\n",
       "    <tr>\n",
       "      <th>45008</th>\n",
       "      <td>295.440000</td>\n",
       "      <td>17.0</td>\n",
       "      <td>1017.0</td>\n",
       "      <td>0.965926</td>\n",
       "      <td>-0.258819</td>\n",
       "      <td>8.660254e-01</td>\n",
       "      <td>5.000000e-01</td>\n",
       "      <td>-0.654451</td>\n",
       "      <td>0.756104</td>\n",
       "    </tr>\n",
       "    <tr>\n",
       "      <th>45009</th>\n",
       "      <td>296.020000</td>\n",
       "      <td>16.0</td>\n",
       "      <td>1016.0</td>\n",
       "      <td>0.965926</td>\n",
       "      <td>-0.258819</td>\n",
       "      <td>9.659258e-01</td>\n",
       "      <td>2.588190e-01</td>\n",
       "      <td>-0.653909</td>\n",
       "      <td>0.756573</td>\n",
       "    </tr>\n",
       "    <tr>\n",
       "      <th>45010</th>\n",
       "      <td>296.510000</td>\n",
       "      <td>17.0</td>\n",
       "      <td>1015.0</td>\n",
       "      <td>0.965926</td>\n",
       "      <td>-0.258819</td>\n",
       "      <td>1.000000e+00</td>\n",
       "      <td>1.086883e-11</td>\n",
       "      <td>-0.653367</td>\n",
       "      <td>0.757042</td>\n",
       "    </tr>\n",
       "    <tr>\n",
       "      <th>45011</th>\n",
       "      <td>297.090000</td>\n",
       "      <td>17.0</td>\n",
       "      <td>1014.0</td>\n",
       "      <td>0.000000</td>\n",
       "      <td>-0.000000</td>\n",
       "      <td>9.659258e-01</td>\n",
       "      <td>-2.588190e-01</td>\n",
       "      <td>-0.652824</td>\n",
       "      <td>0.757510</td>\n",
       "    </tr>\n",
       "    <tr>\n",
       "      <th>45012</th>\n",
       "      <td>296.690000</td>\n",
       "      <td>25.0</td>\n",
       "      <td>1014.0</td>\n",
       "      <td>2.000000</td>\n",
       "      <td>0.000000</td>\n",
       "      <td>8.660254e-01</td>\n",
       "      <td>-5.000000e-01</td>\n",
       "      <td>-0.652281</td>\n",
       "      <td>0.757978</td>\n",
       "    </tr>\n",
       "  </tbody>\n",
       "</table>\n",
       "<p>45012 rows × 9 columns</p>\n",
       "</div>"
      ],
      "text/plain": [
       "       temperature  humidity  pressure        Wx        Wy       Day sin  \\\n",
       "1       291.870000      88.0    1013.0  0.000000  0.000000 -8.660254e-01   \n",
       "2       291.868186      88.0    1013.0  0.000000  0.000000 -7.071068e-01   \n",
       "3       291.862844      88.0    1013.0  0.000000  0.000000 -5.000000e-01   \n",
       "4       291.857503      88.0    1013.0  0.000000  0.000000 -2.588190e-01   \n",
       "5       291.852162      88.0    1013.0  0.000000  0.000000 -6.304366e-12   \n",
       "...            ...       ...       ...       ...       ...           ...   \n",
       "45008   295.440000      17.0    1017.0  0.965926 -0.258819  8.660254e-01   \n",
       "45009   296.020000      16.0    1016.0  0.965926 -0.258819  9.659258e-01   \n",
       "45010   296.510000      17.0    1015.0  0.965926 -0.258819  1.000000e+00   \n",
       "45011   297.090000      17.0    1014.0  0.000000 -0.000000  9.659258e-01   \n",
       "45012   296.690000      25.0    1014.0  2.000000  0.000000  8.660254e-01   \n",
       "\n",
       "            Day cos  Year sin  Year cos  \n",
       "1      5.000000e-01 -0.999924  0.012325  \n",
       "2      7.071068e-01 -0.999915  0.013041  \n",
       "3      8.660254e-01 -0.999905  0.013758  \n",
       "4      9.659258e-01 -0.999895  0.014475  \n",
       "5      1.000000e+00 -0.999885  0.015192  \n",
       "...             ...       ...       ...  \n",
       "45008  5.000000e-01 -0.654451  0.756104  \n",
       "45009  2.588190e-01 -0.653909  0.756573  \n",
       "45010  1.086883e-11 -0.653367  0.757042  \n",
       "45011 -2.588190e-01 -0.652824  0.757510  \n",
       "45012 -5.000000e-01 -0.652281  0.757978  \n",
       "\n",
       "[45012 rows x 9 columns]"
      ]
     },
     "execution_count": 10,
     "metadata": {},
     "output_type": "execute_result"
    }
   ],
   "source": [
    "data"
   ]
  },
  {
   "cell_type": "code",
   "execution_count": 11,
   "metadata": {},
   "outputs": [],
   "source": [
    "#Splitting into train, validation and test\n",
    "column_indices = {name: i for i, name in enumerate(data.columns)}\n",
    "\n",
    "n = len(data)\n",
    "train_df = data[0:int(n*0.7)]\n",
    "val_df = data[int(n*0.7):int(n*0.9)]\n",
    "test_df = data[int(n*0.9):]\n",
    "\n",
    "num_features = data.shape[1]"
   ]
  },
  {
   "cell_type": "code",
   "execution_count": 12,
   "metadata": {},
   "outputs": [],
   "source": [
    "#Normalizing all the data\n",
    "train_mean = train_df.mean()\n",
    "train_std = train_df.std()\n",
    "\n",
    "train_df = (train_df - train_mean) / train_std\n",
    "val_df = (val_df - train_mean) / train_std\n",
    "test_df = (test_df - train_mean) / train_std"
   ]
  },
  {
   "cell_type": "code",
   "execution_count": 13,
   "metadata": {},
   "outputs": [
    {
     "data": {
      "text/html": [
       "<div>\n",
       "<style scoped>\n",
       "    .dataframe tbody tr th:only-of-type {\n",
       "        vertical-align: middle;\n",
       "    }\n",
       "\n",
       "    .dataframe tbody tr th {\n",
       "        vertical-align: top;\n",
       "    }\n",
       "\n",
       "    .dataframe thead th {\n",
       "        text-align: right;\n",
       "    }\n",
       "</style>\n",
       "<table border=\"1\" class=\"dataframe\">\n",
       "  <thead>\n",
       "    <tr style=\"text-align: right;\">\n",
       "      <th></th>\n",
       "      <th>temperature</th>\n",
       "      <th>humidity</th>\n",
       "      <th>pressure</th>\n",
       "      <th>Wx</th>\n",
       "      <th>Wy</th>\n",
       "      <th>Day sin</th>\n",
       "      <th>Day cos</th>\n",
       "      <th>Year sin</th>\n",
       "      <th>Year cos</th>\n",
       "    </tr>\n",
       "  </thead>\n",
       "  <tbody>\n",
       "    <tr>\n",
       "      <th>count</th>\n",
       "      <td>3.150800e+04</td>\n",
       "      <td>3.150800e+04</td>\n",
       "      <td>3.150800e+04</td>\n",
       "      <td>3.150800e+04</td>\n",
       "      <td>3.150800e+04</td>\n",
       "      <td>3.150800e+04</td>\n",
       "      <td>3.150800e+04</td>\n",
       "      <td>3.150800e+04</td>\n",
       "      <td>3.150800e+04</td>\n",
       "    </tr>\n",
       "    <tr>\n",
       "      <th>mean</th>\n",
       "      <td>-6.534767e-14</td>\n",
       "      <td>-3.831587e-16</td>\n",
       "      <td>1.239591e-14</td>\n",
       "      <td>3.984368e-15</td>\n",
       "      <td>1.114190e-14</td>\n",
       "      <td>1.849902e-17</td>\n",
       "      <td>-2.873514e-17</td>\n",
       "      <td>4.327079e-16</td>\n",
       "      <td>-1.239410e-15</td>\n",
       "    </tr>\n",
       "    <tr>\n",
       "      <th>std</th>\n",
       "      <td>1.000000e+00</td>\n",
       "      <td>1.000000e+00</td>\n",
       "      <td>1.000000e+00</td>\n",
       "      <td>1.000000e+00</td>\n",
       "      <td>1.000000e+00</td>\n",
       "      <td>1.000000e+00</td>\n",
       "      <td>1.000000e+00</td>\n",
       "      <td>1.000000e+00</td>\n",
       "      <td>1.000000e+00</td>\n",
       "    </tr>\n",
       "    <tr>\n",
       "      <th>min</th>\n",
       "      <td>-3.657681e+00</td>\n",
       "      <td>-2.560109e+00</td>\n",
       "      <td>-1.518860e+01</td>\n",
       "      <td>-1.126771e+01</td>\n",
       "      <td>-1.203217e+01</td>\n",
       "      <td>-1.414442e+00</td>\n",
       "      <td>-1.414068e+00</td>\n",
       "      <td>-1.437382e+00</td>\n",
       "      <td>-1.554323e+00</td>\n",
       "    </tr>\n",
       "    <tr>\n",
       "      <th>25%</th>\n",
       "      <td>-6.866147e-01</td>\n",
       "      <td>-6.908878e-01</td>\n",
       "      <td>-5.952103e-01</td>\n",
       "      <td>-5.896149e-01</td>\n",
       "      <td>-2.156248e-01</td>\n",
       "      <td>-1.000200e+00</td>\n",
       "      <td>-9.998950e-01</td>\n",
       "      <td>-1.003597e+00</td>\n",
       "      <td>-9.630392e-01</td>\n",
       "    </tr>\n",
       "    <tr>\n",
       "      <th>50%</th>\n",
       "      <td>-5.083055e-02</td>\n",
       "      <td>1.297458e-01</td>\n",
       "      <td>-1.355759e-01</td>\n",
       "      <td>9.163101e-02</td>\n",
       "      <td>2.357689e-01</td>\n",
       "      <td>-1.332905e-04</td>\n",
       "      <td>6.089053e-06</td>\n",
       "      <td>2.593580e-02</td>\n",
       "      <td>1.121578e-01</td>\n",
       "    </tr>\n",
       "    <tr>\n",
       "      <th>75%</th>\n",
       "      <td>6.731280e-01</td>\n",
       "      <td>8.136072e-01</td>\n",
       "      <td>6.687842e-01</td>\n",
       "      <td>9.163101e-02</td>\n",
       "      <td>2.357689e-01</td>\n",
       "      <td>9.999339e-01</td>\n",
       "      <td>9.999072e-01</td>\n",
       "      <td>1.017105e+00</td>\n",
       "      <td>9.786113e-01</td>\n",
       "    </tr>\n",
       "    <tr>\n",
       "      <th>max</th>\n",
       "      <td>3.372504e+00</td>\n",
       "      <td>1.771013e+00</td>\n",
       "      <td>2.966956e+00</td>\n",
       "      <td>1.386943e+01</td>\n",
       "      <td>8.471816e+00</td>\n",
       "      <td>1.414175e+00</td>\n",
       "      <td>1.414080e+00</td>\n",
       "      <td>1.364679e+00</td>\n",
       "      <td>1.322268e+00</td>\n",
       "    </tr>\n",
       "  </tbody>\n",
       "</table>\n",
       "</div>"
      ],
      "text/plain": [
       "        temperature      humidity      pressure            Wx            Wy  \\\n",
       "count  3.150800e+04  3.150800e+04  3.150800e+04  3.150800e+04  3.150800e+04   \n",
       "mean  -6.534767e-14 -3.831587e-16  1.239591e-14  3.984368e-15  1.114190e-14   \n",
       "std    1.000000e+00  1.000000e+00  1.000000e+00  1.000000e+00  1.000000e+00   \n",
       "min   -3.657681e+00 -2.560109e+00 -1.518860e+01 -1.126771e+01 -1.203217e+01   \n",
       "25%   -6.866147e-01 -6.908878e-01 -5.952103e-01 -5.896149e-01 -2.156248e-01   \n",
       "50%   -5.083055e-02  1.297458e-01 -1.355759e-01  9.163101e-02  2.357689e-01   \n",
       "75%    6.731280e-01  8.136072e-01  6.687842e-01  9.163101e-02  2.357689e-01   \n",
       "max    3.372504e+00  1.771013e+00  2.966956e+00  1.386943e+01  8.471816e+00   \n",
       "\n",
       "            Day sin       Day cos      Year sin      Year cos  \n",
       "count  3.150800e+04  3.150800e+04  3.150800e+04  3.150800e+04  \n",
       "mean   1.849902e-17 -2.873514e-17  4.327079e-16 -1.239410e-15  \n",
       "std    1.000000e+00  1.000000e+00  1.000000e+00  1.000000e+00  \n",
       "min   -1.414442e+00 -1.414068e+00 -1.437382e+00 -1.554323e+00  \n",
       "25%   -1.000200e+00 -9.998950e-01 -1.003597e+00 -9.630392e-01  \n",
       "50%   -1.332905e-04  6.089053e-06  2.593580e-02  1.121578e-01  \n",
       "75%    9.999339e-01  9.999072e-01  1.017105e+00  9.786113e-01  \n",
       "max    1.414175e+00  1.414080e+00  1.364679e+00  1.322268e+00  "
      ]
     },
     "execution_count": 13,
     "metadata": {},
     "output_type": "execute_result"
    }
   ],
   "source": [
    "train_df.describe()"
   ]
  },
  {
   "cell_type": "markdown",
   "metadata": {},
   "source": [
    "# Single Step Prediction"
   ]
  },
  {
   "cell_type": "markdown",
   "metadata": {},
   "source": [
    "## Dataset creation"
   ]
  },
  {
   "cell_type": "code",
   "execution_count": 14,
   "metadata": {},
   "outputs": [],
   "source": [
    "# Function to create windows and labels\n",
    "def create_dataset_single(train_df,window_size):\n",
    "    train_windows = []\n",
    "    train_labels = []\n",
    "    \n",
    "#     train_df = train_df.to_numpy()\n",
    "\n",
    "    for i in range(len(train_df)-window_size):\n",
    "        train_windows.append(train_df.iloc[i:i+window_size])\n",
    "        train_labels.append(train_df['temperature'].iloc[i+window_size])\n",
    "    \n",
    "    return np.array(train_windows),np.array(train_labels)"
   ]
  },
  {
   "cell_type": "code",
   "execution_count": 15,
   "metadata": {},
   "outputs": [],
   "source": [
    "#train,val and test for windows 24,72 and 120\n",
    "train_windows24, train_labels24 = create_dataset_single(train_df,24)\n",
    "train_windows72, train_labels72 = create_dataset_single(train_df,72)\n",
    "train_windows120, train_labels120 = create_dataset_single(train_df,120)\n",
    "\n",
    "\n",
    "val_windows24,val_labels24 = create_dataset_single(val_df,24)\n",
    "val_windows72,val_labels72 = create_dataset_single(val_df,72)\n",
    "val_windows120,val_labels120 = create_dataset_single(val_df,120)\n",
    "\n",
    "\n",
    "test_windows24,test_labels24 = create_dataset_single(test_df,24)\n",
    "test_windows72,test_labels72 = create_dataset_single(test_df,72)\n",
    "test_windows120,test_labels120 = create_dataset_single(test_df,120)"
   ]
  },
  {
   "cell_type": "markdown",
   "metadata": {},
   "source": [
    "## Baseline (Last Time Step)"
   ]
  },
  {
   "cell_type": "code",
   "execution_count": 16,
   "metadata": {},
   "outputs": [],
   "source": [
    "def baseline(data):\n",
    "    return data[:,-1,0]\n",
    "\n",
    "\n",
    "baseline_test24 = mean_absolute_error(baseline(test_windows24),test_labels24)\n",
    "baseline_test72 = mean_absolute_error(baseline(test_windows72),test_labels72)\n",
    "baseline_test120 = mean_absolute_error(baseline(test_windows120),test_labels120)"
   ]
  },
  {
   "cell_type": "code",
   "execution_count": 17,
   "metadata": {},
   "outputs": [
    {
     "data": {
      "text/plain": [
       "(0.13169526830479683, 0.13196778638959025, 0.13142798156378666)"
      ]
     },
     "execution_count": 17,
     "metadata": {},
     "output_type": "execute_result"
    }
   ],
   "source": [
    "baseline_test24,baseline_test72,baseline_test120"
   ]
  },
  {
   "cell_type": "markdown",
   "metadata": {},
   "source": [
    "## Linear Model"
   ]
  },
  {
   "cell_type": "code",
   "execution_count": 18,
   "metadata": {},
   "outputs": [],
   "source": [
    "linear = tf.keras.Sequential([\n",
    "    tf.keras.layers.Dense(units=1)\n",
    "])"
   ]
  },
  {
   "cell_type": "code",
   "execution_count": 19,
   "metadata": {},
   "outputs": [],
   "source": [
    "#Compile and Fit function for all three windows\n",
    "def compile_and_fit(model):\n",
    "    model.compile(loss=tf.losses.MeanSquaredError(),metrics=[tf.metrics.MeanAbsoluteError()])\n",
    "    early_stopping = tf.keras.callbacks.EarlyStopping(monitor='val_loss',patience=2, mode='min')\n",
    "    \n",
    "    print('training model 1')\n",
    "    history24 = model.fit(train_windows24,train_labels24,validation_data=(val_windows24,val_labels24),\n",
    "                          callbacks=[early_stopping],epochs=20)\n",
    "    print()\n",
    "    print('training model 2')\n",
    "    \n",
    "    history72 = model.fit(train_windows72,train_labels72,validation_data=(val_windows72,val_labels72),\n",
    "                          callbacks=[early_stopping],epochs=20)\n",
    "    print()\n",
    "    print('training model 3')\n",
    "    \n",
    "    history120 = model.fit(train_windows120,train_labels120,validation_data=(val_windows120,val_labels120),\n",
    "                          callbacks=[early_stopping],epochs=20)\n",
    "    \n",
    "    return history24,history72,history120"
   ]
  },
  {
   "cell_type": "code",
   "execution_count": 20,
   "metadata": {},
   "outputs": [
    {
     "name": "stdout",
     "output_type": "stream",
     "text": [
      "training model 1\n",
      "Epoch 1/20\n",
      "984/984 [==============================] - 8s 7ms/step - loss: 1.8924 - mean_absolute_error: 1.0651 - val_loss: 0.5637 - val_mean_absolute_error: 0.6037\n",
      "Epoch 2/20\n",
      "984/984 [==============================] - 7s 7ms/step - loss: 0.5164 - mean_absolute_error: 0.5846 - val_loss: 0.5299 - val_mean_absolute_error: 0.5919\n",
      "Epoch 3/20\n",
      "984/984 [==============================] - 7s 7ms/step - loss: 0.5029 - mean_absolute_error: 0.5776 - val_loss: 0.5219 - val_mean_absolute_error: 0.5873\n",
      "Epoch 4/20\n",
      "984/984 [==============================] - 7s 7ms/step - loss: 0.5028 - mean_absolute_error: 0.5789 - val_loss: 0.5203 - val_mean_absolute_error: 0.5866\n",
      "Epoch 5/20\n",
      "984/984 [==============================] - 7s 7ms/step - loss: 0.5071 - mean_absolute_error: 0.5817 - val_loss: 0.5270 - val_mean_absolute_error: 0.5903\n",
      "Epoch 6/20\n",
      "984/984 [==============================] - 7s 7ms/step - loss: 0.5071 - mean_absolute_error: 0.5808 - val_loss: 0.5237 - val_mean_absolute_error: 0.5877\n",
      "\n",
      "training model 2\n",
      "Epoch 1/20\n",
      "983/983 [==============================] - 8s 8ms/step - loss: 0.5597 - mean_absolute_error: 0.6038 - val_loss: 0.5747 - val_mean_absolute_error: 0.6084\n",
      "Epoch 2/20\n",
      "983/983 [==============================] - 7s 7ms/step - loss: 0.5585 - mean_absolute_error: 0.6030 - val_loss: 0.5769 - val_mean_absolute_error: 0.6102\n",
      "Epoch 3/20\n",
      "983/983 [==============================] - 8s 8ms/step - loss: 0.5584 - mean_absolute_error: 0.6030 - val_loss: 0.5816 - val_mean_absolute_error: 0.6118\n",
      "\n",
      "training model 3\n",
      "Epoch 1/20\n",
      "981/981 [==============================] - 8s 8ms/step - loss: 0.5953 - mean_absolute_error: 0.6185 - val_loss: 0.6076 - val_mean_absolute_error: 0.6226\n",
      "Epoch 2/20\n",
      "981/981 [==============================] - 7s 8ms/step - loss: 0.5945 - mean_absolute_error: 0.6176 - val_loss: 0.6124 - val_mean_absolute_error: 0.6259\n",
      "Epoch 3/20\n",
      "981/981 [==============================] - 7s 7ms/step - loss: 0.5943 - mean_absolute_error: 0.6177 - val_loss: 0.6002 - val_mean_absolute_error: 0.6190\n",
      "Epoch 4/20\n",
      "981/981 [==============================] - 7s 7ms/step - loss: 0.5945 - mean_absolute_error: 0.6178 - val_loss: 0.6085 - val_mean_absolute_error: 0.6240\n",
      "Epoch 5/20\n",
      "981/981 [==============================] - 7s 7ms/step - loss: 0.5944 - mean_absolute_error: 0.6177 - val_loss: 0.6029 - val_mean_absolute_error: 0.6201\n"
     ]
    }
   ],
   "source": [
    "linear_history24,linear_history72,linear_history120 = compile_and_fit(linear)"
   ]
  },
  {
   "cell_type": "code",
   "execution_count": 21,
   "metadata": {},
   "outputs": [
    {
     "name": "stdout",
     "output_type": "stream",
     "text": [
      "140/140 [==============================] - 1s 4ms/step - loss: 0.4209 - mean_absolute_error: 0.5181\n",
      "139/139 [==============================] - 1s 4ms/step - loss: 0.4546 - mean_absolute_error: 0.5328\n",
      "137/137 [==============================] - 1s 4ms/step - loss: 0.4751 - mean_absolute_error: 0.5419\n"
     ]
    }
   ],
   "source": [
    "linear_loss24,linear_test24 = linear.evaluate(test_windows24,test_labels24)\n",
    "linear_loss72,linear_test72 = linear.evaluate(test_windows72,test_labels72)\n",
    "linear_loss120,linear_test120 = linear.evaluate(test_windows120,test_labels120)"
   ]
  },
  {
   "cell_type": "markdown",
   "metadata": {},
   "source": [
    "## Dense Model"
   ]
  },
  {
   "cell_type": "code",
   "execution_count": 22,
   "metadata": {},
   "outputs": [],
   "source": [
    "dense_model = tf.keras.Sequential([\n",
    "    tf.keras.layers.Dense(units=32, activation='relu'),\n",
    "    tf.keras.layers.Dense(units=32, activation='relu'),\n",
    "    tf.keras.layers.Dense(units=1),\n",
    "])"
   ]
  },
  {
   "cell_type": "code",
   "execution_count": 23,
   "metadata": {
    "scrolled": true
   },
   "outputs": [
    {
     "name": "stdout",
     "output_type": "stream",
     "text": [
      "training model 1\n",
      "Epoch 1/20\n",
      "984/984 [==============================] - 12s 11ms/step - loss: 0.5484 - mean_absolute_error: 0.5991 - val_loss: 0.5102 - val_mean_absolute_error: 0.5726\n",
      "Epoch 2/20\n",
      "984/984 [==============================] - 11s 11ms/step - loss: 0.4813 - mean_absolute_error: 0.5702 - val_loss: 0.5245 - val_mean_absolute_error: 0.5943\n",
      "Epoch 3/20\n",
      "984/984 [==============================] - 11s 11ms/step - loss: 0.4772 - mean_absolute_error: 0.5681 - val_loss: 0.4984 - val_mean_absolute_error: 0.5755\n",
      "Epoch 4/20\n",
      "984/984 [==============================] - 11s 11ms/step - loss: 0.4766 - mean_absolute_error: 0.5673 - val_loss: 0.4988 - val_mean_absolute_error: 0.5702\n",
      "Epoch 5/20\n",
      "984/984 [==============================] - 11s 11ms/step - loss: 0.4704 - mean_absolute_error: 0.5635 - val_loss: 0.5112 - val_mean_absolute_error: 0.5849\n",
      "\n",
      "training model 2\n",
      "Epoch 1/20\n",
      "983/983 [==============================] - 13s 12ms/step - loss: 0.5284 - mean_absolute_error: 0.5903 - val_loss: 0.5677 - val_mean_absolute_error: 0.5985\n",
      "Epoch 2/20\n",
      "983/983 [==============================] - 12s 12ms/step - loss: 0.5268 - mean_absolute_error: 0.5897 - val_loss: 0.5705 - val_mean_absolute_error: 0.5990\n",
      "Epoch 3/20\n",
      "983/983 [==============================] - 12s 12ms/step - loss: 0.5247 - mean_absolute_error: 0.5887 - val_loss: 0.5671 - val_mean_absolute_error: 0.5987\n",
      "Epoch 4/20\n",
      "983/983 [==============================] - 12s 12ms/step - loss: 0.5237 - mean_absolute_error: 0.5881 - val_loss: 0.5565 - val_mean_absolute_error: 0.5994\n",
      "Epoch 5/20\n",
      "983/983 [==============================] - 12s 12ms/step - loss: 0.5226 - mean_absolute_error: 0.5877 - val_loss: 0.5605 - val_mean_absolute_error: 0.5990\n",
      "Epoch 6/20\n",
      "983/983 [==============================] - 12s 12ms/step - loss: 0.5222 - mean_absolute_error: 0.5876 - val_loss: 0.5717 - val_mean_absolute_error: 0.6079\n",
      "\n",
      "training model 3\n",
      "Epoch 1/20\n",
      "981/981 [==============================] - 12s 12ms/step - loss: 0.5588 - mean_absolute_error: 0.6035 - val_loss: 0.5997 - val_mean_absolute_error: 0.6128\n",
      "Epoch 2/20\n",
      "981/981 [==============================] - 12s 12ms/step - loss: 0.5567 - mean_absolute_error: 0.6025 - val_loss: 0.5979 - val_mean_absolute_error: 0.6166\n",
      "Epoch 3/20\n",
      "981/981 [==============================] - 12s 13ms/step - loss: 0.5554 - mean_absolute_error: 0.6021 - val_loss: 0.5951 - val_mean_absolute_error: 0.6166\n",
      "Epoch 4/20\n",
      "981/981 [==============================] - 13s 13ms/step - loss: 0.5545 - mean_absolute_error: 0.6016 - val_loss: 0.6109 - val_mean_absolute_error: 0.6271\n",
      "Epoch 5/20\n",
      "981/981 [==============================] - 12s 12ms/step - loss: 0.5533 - mean_absolute_error: 0.6007 - val_loss: 0.6049 - val_mean_absolute_error: 0.6261\n"
     ]
    }
   ],
   "source": [
    "dense_history24,dense_history72,dense_history120 = compile_and_fit(dense_model)"
   ]
  },
  {
   "cell_type": "code",
   "execution_count": 24,
   "metadata": {},
   "outputs": [
    {
     "name": "stdout",
     "output_type": "stream",
     "text": [
      "140/140 [==============================] - 1s 6ms/step - loss: 0.4323 - mean_absolute_error: 0.5295\n",
      "139/139 [==============================] - 1s 7ms/step - loss: 0.4605 - mean_absolute_error: 0.5420\n",
      "137/137 [==============================] - 1s 7ms/step - loss: 0.4759 - mean_absolute_error: 0.5484\n"
     ]
    }
   ],
   "source": [
    "dense_loss24,dense_test24 = dense_model.evaluate(test_windows24,test_labels24)\n",
    "dense_loss72,dense_test72 = dense_model.evaluate(test_windows72,test_labels72)\n",
    "dense_loss120,dense_test120 = dense_model.evaluate(test_windows120,test_labels120)"
   ]
  },
  {
   "cell_type": "markdown",
   "metadata": {},
   "source": [
    "## LSTM Model"
   ]
  },
  {
   "cell_type": "code",
   "execution_count": 25,
   "metadata": {},
   "outputs": [],
   "source": [
    "lstm_model = tf.keras.models.Sequential([\n",
    "    tf.keras.layers.LSTM(32, return_sequences=False),\n",
    "    tf.keras.layers.Dense(units=1)\n",
    "])"
   ]
  },
  {
   "cell_type": "code",
   "execution_count": 26,
   "metadata": {},
   "outputs": [
    {
     "name": "stdout",
     "output_type": "stream",
     "text": [
      "training model 1\n",
      "Epoch 1/20\n",
      "984/984 [==============================] - 15s 11ms/step - loss: 0.1161 - mean_absolute_error: 0.2280 - val_loss: 0.0569 - val_mean_absolute_error: 0.1472\n",
      "Epoch 2/20\n",
      "984/984 [==============================] - 10s 10ms/step - loss: 0.0336 - mean_absolute_error: 0.1266 - val_loss: 0.0455 - val_mean_absolute_error: 0.1277\n",
      "Epoch 3/20\n",
      "984/984 [==============================] - 11s 11ms/step - loss: 0.0311 - mean_absolute_error: 0.1198 - val_loss: 0.0433 - val_mean_absolute_error: 0.1287\n",
      "Epoch 4/20\n",
      "984/984 [==============================] - 11s 11ms/step - loss: 0.0297 - mean_absolute_error: 0.1157 - val_loss: 0.0375 - val_mean_absolute_error: 0.1132\n",
      "Epoch 5/20\n",
      "984/984 [==============================] - 10s 10ms/step - loss: 0.0297 - mean_absolute_error: 0.1145 - val_loss: 0.0369 - val_mean_absolute_error: 0.1142\n",
      "Epoch 6/20\n",
      "984/984 [==============================] - 11s 11ms/step - loss: 0.0280 - mean_absolute_error: 0.1103 - val_loss: 0.0342 - val_mean_absolute_error: 0.1058\n",
      "Epoch 7/20\n",
      "984/984 [==============================] - 10s 10ms/step - loss: 0.0279 - mean_absolute_error: 0.1095 - val_loss: 0.0360 - val_mean_absolute_error: 0.1096\n",
      "Epoch 8/20\n",
      "984/984 [==============================] - 10s 10ms/step - loss: 0.0268 - mean_absolute_error: 0.1083 - val_loss: 0.0384 - val_mean_absolute_error: 0.1132\n",
      "\n",
      "training model 2\n",
      "Epoch 1/20\n",
      "983/983 [==============================] - 15s 14ms/step - loss: 0.0266 - mean_absolute_error: 0.1066 - val_loss: 0.0344 - val_mean_absolute_error: 0.1041\n",
      "Epoch 2/20\n",
      "983/983 [==============================] - 13s 13ms/step - loss: 0.0258 - mean_absolute_error: 0.1050 - val_loss: 0.0338 - val_mean_absolute_error: 0.1035\n",
      "Epoch 3/20\n",
      "983/983 [==============================] - 13s 13ms/step - loss: 0.0252 - mean_absolute_error: 0.1030 - val_loss: 0.0360 - val_mean_absolute_error: 0.1083\n",
      "Epoch 4/20\n",
      "983/983 [==============================] - 13s 14ms/step - loss: 0.0244 - mean_absolute_error: 0.1014 - val_loss: 0.0437 - val_mean_absolute_error: 0.1197\n",
      "\n",
      "training model 3\n",
      "Epoch 1/20\n",
      "981/981 [==============================] - 17s 15ms/step - loss: 0.0238 - mean_absolute_error: 0.0997 - val_loss: 0.0394 - val_mean_absolute_error: 0.1105\n",
      "Epoch 2/20\n",
      "981/981 [==============================] - 15s 15ms/step - loss: 0.0232 - mean_absolute_error: 0.0983 - val_loss: 0.0405 - val_mean_absolute_error: 0.1146\n",
      "Epoch 3/20\n",
      "981/981 [==============================] - 15s 15ms/step - loss: 0.0226 - mean_absolute_error: 0.0969 - val_loss: 0.0440 - val_mean_absolute_error: 0.1228\n"
     ]
    },
    {
     "data": {
      "text/plain": [
       "(<tensorflow.python.keras.callbacks.History at 0x1b48b742c88>,\n",
       " <tensorflow.python.keras.callbacks.History at 0x1b4c2bff348>,\n",
       " <tensorflow.python.keras.callbacks.History at 0x1b6d2d9e988>)"
      ]
     },
     "execution_count": 26,
     "metadata": {},
     "output_type": "execute_result"
    }
   ],
   "source": [
    "compile_and_fit(lstm_model)"
   ]
  },
  {
   "cell_type": "code",
   "execution_count": 27,
   "metadata": {},
   "outputs": [
    {
     "name": "stdout",
     "output_type": "stream",
     "text": [
      "140/140 [==============================] - 1s 4ms/step - loss: 0.0118 - mean_absolute_error: 0.0786\n",
      "139/139 [==============================] - 1s 6ms/step - loss: 0.0119 - mean_absolute_error: 0.0791\n",
      "137/137 [==============================] - 1s 7ms/step - loss: 0.0119 - mean_absolute_error: 0.0790\n"
     ]
    }
   ],
   "source": [
    "lstm_loss24,lstm_test24 = lstm_model.evaluate(test_windows24,test_labels24)\n",
    "lstm_loss72,lstm_test72 = lstm_model.evaluate(test_windows72,test_labels72)\n",
    "lstm_loss120,lstm_test120 = lstm_model.evaluate(test_windows120,test_labels120)"
   ]
  },
  {
   "cell_type": "markdown",
   "metadata": {},
   "source": [
    "# Multi-Step Prediction"
   ]
  },
  {
   "cell_type": "markdown",
   "metadata": {},
   "source": [
    "## Data Set Creation"
   ]
  },
  {
   "cell_type": "code",
   "execution_count": 28,
   "metadata": {},
   "outputs": [],
   "source": [
    "# Function to create windows and labels\n",
    "def create_dataset_multiple(train_df,window_size,label_size):\n",
    "    train_windows = []\n",
    "    train_labels = []\n",
    "    \n",
    "#     train_df = train_df.to_numpy()\n",
    "\n",
    "    for i in range(len(train_df)-window_size-label_size):\n",
    "        train_windows.append(train_df.iloc[i:i+window_size])\n",
    "        train_labels.append(train_df['temperature'].iloc[i+window_size:i+label_size+window_size])\n",
    "    \n",
    "    return np.array(train_windows),np.array(train_labels)"
   ]
  },
  {
   "cell_type": "code",
   "execution_count": 29,
   "metadata": {},
   "outputs": [],
   "source": [
    "#Train, val, test of size (24,24), (72,72), (120,120)\n",
    "train_windows_multiple24, train_labels_multiple24 = create_dataset_multiple(train_df,24,24)\n",
    "train_windows_multiple72, train_labels_multiple72 = create_dataset_multiple(train_df,72,72)\n",
    "train_windows_multiple120, train_labels_multiple120 = create_dataset_multiple(train_df,120,120)\n",
    "\n",
    "\n",
    "val_windows_multiple24, val_labels_multiple24 = create_dataset_multiple(val_df,24,24)\n",
    "val_windows_multiple72, val_labels_multiple72 = create_dataset_multiple(val_df,72,72)\n",
    "val_windows_multiple120, val_labels_multiple120 = create_dataset_multiple(val_df,120,120)\n",
    "\n",
    "test_windows_multiple24, test_labels_multiple24 = create_dataset_multiple(test_df,24,24)\n",
    "test_windows_multiple72, test_labels_multiple72 = create_dataset_multiple(test_df,72,72)\n",
    "test_windows_multiple120, test_labels_multiple120 = create_dataset_multiple(test_df,120,120)"
   ]
  },
  {
   "cell_type": "markdown",
   "metadata": {},
   "source": [
    "## Multi Baseline Model (Repeated)"
   ]
  },
  {
   "cell_type": "code",
   "execution_count": 30,
   "metadata": {},
   "outputs": [
    {
     "data": {
      "text/plain": [
       "(0.21222301797066634, 0.39038818488771215, 0.4387629334710285)"
      ]
     },
     "execution_count": 30,
     "metadata": {},
     "output_type": "execute_result"
    }
   ],
   "source": [
    "def baseline_multi(data):\n",
    "    return data[:,:,0]\n",
    "    \n",
    "baseline_multi24 = mean_absolute_error(baseline_multi(test_windows_multiple24),test_labels_multiple24)\n",
    "baseline_multi72 = mean_absolute_error(baseline_multi(test_windows_multiple72),test_labels_multiple72)\n",
    "baseline_multi120 = mean_absolute_error(baseline_multi(test_windows_multiple120),test_labels_multiple120)\n",
    "\n",
    "baseline_multi24,baseline_multi72,baseline_multi120"
   ]
  },
  {
   "cell_type": "markdown",
   "metadata": {},
   "source": [
    "## Multi Linear Model"
   ]
  },
  {
   "cell_type": "code",
   "execution_count": 31,
   "metadata": {},
   "outputs": [],
   "source": [
    "multi_linear_model24 = tf.keras.Sequential([\n",
    "    tf.keras.layers.Lambda(lambda x: x[:, -1:, :]),\n",
    "    tf.keras.layers.Dense(24),\n",
    "])\n",
    "\n",
    "multi_linear_model72 = tf.keras.Sequential([\n",
    "    tf.keras.layers.Lambda(lambda x: x[:, -1:, :]),\n",
    "    tf.keras.layers.Dense(72),\n",
    "])\n",
    "\n",
    "multi_linear_model120 = tf.keras.Sequential([\n",
    "    tf.keras.layers.Lambda(lambda x: x[:, -1:, :]),\n",
    "    tf.keras.layers.Dense(120),\n",
    "])"
   ]
  },
  {
   "cell_type": "code",
   "execution_count": 32,
   "metadata": {},
   "outputs": [],
   "source": [
    "#Compile and Fit function for multi step models\n",
    "def compile_and_fit_multi(model,tw,tl,vw,vl):\n",
    "    model.compile(loss=tf.losses.MeanSquaredError(),metrics=[tf.metrics.MeanAbsoluteError()])\n",
    "    early_stopping = tf.keras.callbacks.EarlyStopping(monitor='val_loss',patience=2, mode='min')\n",
    "    model.fit(tw,tl,validation_data=(vw,vl), callbacks=[early_stopping],epochs=20)"
   ]
  },
  {
   "cell_type": "code",
   "execution_count": 33,
   "metadata": {},
   "outputs": [
    {
     "name": "stdout",
     "output_type": "stream",
     "text": [
      "Epoch 1/20\n",
      "984/984 [==============================] - 7s 7ms/step - loss: 1.1603 - mean_absolute_error: 0.8593 - val_loss: 0.9683 - val_mean_absolute_error: 0.7663\n",
      "Epoch 2/20\n",
      "984/984 [==============================] - 7s 7ms/step - loss: 1.0045 - mean_absolute_error: 0.8037 - val_loss: 0.9828 - val_mean_absolute_error: 0.7732\n",
      "Epoch 3/20\n",
      "984/984 [==============================] - 7s 7ms/step - loss: 1.0003 - mean_absolute_error: 0.8029 - val_loss: 0.9782 - val_mean_absolute_error: 0.7702\n",
      "\n",
      "Epoch 1/20\n",
      "981/981 [==============================] - 8s 7ms/step - loss: 1.0437 - mean_absolute_error: 0.8182 - val_loss: 0.9962 - val_mean_absolute_error: 0.7779\n",
      "Epoch 2/20\n",
      "981/981 [==============================] - 7s 7ms/step - loss: 0.9958 - mean_absolute_error: 0.8002 - val_loss: 0.9962 - val_mean_absolute_error: 0.7776\n",
      "Epoch 3/20\n",
      "981/981 [==============================] - 7s 7ms/step - loss: 0.9947 - mean_absolute_error: 0.7998 - val_loss: 0.9844 - val_mean_absolute_error: 0.7742\n",
      "Epoch 4/20\n",
      "981/981 [==============================] - 6s 6ms/step - loss: 0.9999 - mean_absolute_error: 0.8022 - val_loss: 0.9859 - val_mean_absolute_error: 0.7748\n",
      "Epoch 5/20\n",
      "981/981 [==============================] - 6s 6ms/step - loss: 0.9978 - mean_absolute_error: 0.8015 - val_loss: 0.9935 - val_mean_absolute_error: 0.7769\n",
      "\n",
      "Epoch 1/20\n",
      "978/978 [==============================] - 8s 7ms/step - loss: 1.0250 - mean_absolute_error: 0.8111 - val_loss: 0.9951 - val_mean_absolute_error: 0.7781\n",
      "Epoch 2/20\n",
      "978/978 [==============================] - 7s 7ms/step - loss: 1.0023 - mean_absolute_error: 0.8035 - val_loss: 1.0020 - val_mean_absolute_error: 0.7812\n",
      "Epoch 3/20\n",
      "978/978 [==============================] - 7s 7ms/step - loss: 0.9972 - mean_absolute_error: 0.8014 - val_loss: 0.9929 - val_mean_absolute_error: 0.7775\n",
      "Epoch 4/20\n",
      "978/978 [==============================] - 7s 7ms/step - loss: 0.9983 - mean_absolute_error: 0.8017 - val_loss: 1.0038 - val_mean_absolute_error: 0.7814\n",
      "Epoch 5/20\n",
      "978/978 [==============================] - 7s 7ms/step - loss: 1.0031 - mean_absolute_error: 0.8040 - val_loss: 1.0027 - val_mean_absolute_error: 0.7812\n"
     ]
    }
   ],
   "source": [
    "compile_and_fit_multi(multi_linear_model24,\n",
    "                      train_windows_multiple24,train_labels_multiple24,\n",
    "                      val_windows_multiple24,val_labels_multiple24)\n",
    "print()\n",
    "compile_and_fit_multi(multi_linear_model72,\n",
    "                      train_windows_multiple72,train_labels_multiple72,\n",
    "                      val_windows_multiple72,val_labels_multiple72)\n",
    "print()\n",
    "compile_and_fit_multi(multi_linear_model120,\n",
    "                      train_windows_multiple120,train_labels_multiple120,\n",
    "                      val_windows_multiple120,val_labels_multiple120)"
   ]
  },
  {
   "cell_type": "code",
   "execution_count": 34,
   "metadata": {},
   "outputs": [
    {
     "name": "stdout",
     "output_type": "stream",
     "text": [
      "140/140 [==============================] - 1s 4ms/step - loss: 1.0810 - mean_absolute_error: 0.8032\n",
      "137/137 [==============================] - 1s 4ms/step - loss: 1.0942 - mean_absolute_error: 0.8080\n",
      "134/134 [==============================] - 1s 4ms/step - loss: 1.1069 - mean_absolute_error: 0.8143\n"
     ]
    }
   ],
   "source": [
    "multi_linear_loss24,multi_linear_test24 = multi_linear_model24.evaluate(test_windows_multiple24,test_labels_multiple24)\n",
    "multi_linear_loss72,multi_linear_test72 = multi_linear_model72.evaluate(test_windows_multiple72,test_labels_multiple72)\n",
    "multi_linear_loss120,multi_linear_test120 = multi_linear_model120.evaluate(test_windows_multiple120,test_labels_multiple120)"
   ]
  },
  {
   "cell_type": "markdown",
   "metadata": {},
   "source": [
    "## Multi LSTM Model"
   ]
  },
  {
   "cell_type": "code",
   "execution_count": 35,
   "metadata": {},
   "outputs": [],
   "source": [
    "multi_lstm_model24 = tf.keras.Sequential([\n",
    "    tf.keras.layers.LSTM(32, return_sequences=False),\n",
    "    tf.keras.layers.Dense(units = 24)\n",
    "])\n",
    "\n",
    "multi_lstm_model72 = tf.keras.Sequential([\n",
    "    tf.keras.layers.LSTM(32, return_sequences=False),\n",
    "    tf.keras.layers.Dense(units = 72)\n",
    "])\n",
    "\n",
    "multi_lstm_model120 = tf.keras.Sequential([\n",
    "    tf.keras.layers.LSTM(32, return_sequences=False),\n",
    "    tf.keras.layers.Dense(units = 120)\n",
    "])\n"
   ]
  },
  {
   "cell_type": "code",
   "execution_count": 36,
   "metadata": {},
   "outputs": [
    {
     "name": "stdout",
     "output_type": "stream",
     "text": [
      "Epoch 1/20\n",
      "984/984 [==============================] - 15s 12ms/step - loss: 0.3044 - mean_absolute_error: 0.3939 - val_loss: 0.1729 - val_mean_absolute_error: 0.2952\n",
      "Epoch 2/20\n",
      "984/984 [==============================] - 11s 11ms/step - loss: 0.1046 - mean_absolute_error: 0.2384 - val_loss: 0.1404 - val_mean_absolute_error: 0.2640\n",
      "Epoch 3/20\n",
      "984/984 [==============================] - 11s 11ms/step - loss: 0.0929 - mean_absolute_error: 0.2236 - val_loss: 0.1353 - val_mean_absolute_error: 0.2647\n",
      "Epoch 4/20\n",
      "984/984 [==============================] - 10s 10ms/step - loss: 0.0902 - mean_absolute_error: 0.2195 - val_loss: 0.1290 - val_mean_absolute_error: 0.2511\n",
      "Epoch 5/20\n",
      "984/984 [==============================] - 10s 10ms/step - loss: 0.0878 - mean_absolute_error: 0.2159 - val_loss: 0.1327 - val_mean_absolute_error: 0.2586\n",
      "Epoch 6/20\n",
      "984/984 [==============================] - 10s 10ms/step - loss: 0.0857 - mean_absolute_error: 0.2136 - val_loss: 0.1400 - val_mean_absolute_error: 0.2636\n",
      "\n",
      "Epoch 1/20\n",
      "981/981 [==============================] - 16s 14ms/step - loss: 0.3726 - mean_absolute_error: 0.4516 - val_loss: 0.2614 - val_mean_absolute_error: 0.3616\n",
      "Epoch 2/20\n",
      "981/981 [==============================] - 13s 13ms/step - loss: 0.1603 - mean_absolute_error: 0.3005 - val_loss: 0.2386 - val_mean_absolute_error: 0.3543\n",
      "Epoch 3/20\n",
      "981/981 [==============================] - 13s 13ms/step - loss: 0.1459 - mean_absolute_error: 0.2856 - val_loss: 0.2480 - val_mean_absolute_error: 0.3629\n",
      "Epoch 4/20\n",
      "981/981 [==============================] - 13s 13ms/step - loss: 0.1375 - mean_absolute_error: 0.2776 - val_loss: 0.2549 - val_mean_absolute_error: 0.3702\n",
      "\n",
      "Epoch 1/20\n",
      "978/978 [==============================] - 18s 16ms/step - loss: 0.4127 - mean_absolute_error: 0.4844 - val_loss: 0.3028 - val_mean_absolute_error: 0.4039\n",
      "Epoch 2/20\n",
      "978/978 [==============================] - 14s 14ms/step - loss: 0.2005 - mean_absolute_error: 0.3376 - val_loss: 0.2994 - val_mean_absolute_error: 0.4063\n",
      "Epoch 3/20\n",
      "978/978 [==============================] - 14s 14ms/step - loss: 0.1753 - mean_absolute_error: 0.3157 - val_loss: 0.3010 - val_mean_absolute_error: 0.4073\n",
      "Epoch 4/20\n",
      "978/978 [==============================] - 14s 14ms/step - loss: 0.1614 - mean_absolute_error: 0.3027 - val_loss: 0.3280 - val_mean_absolute_error: 0.4263\n"
     ]
    }
   ],
   "source": [
    "compile_and_fit_multi(multi_lstm_model24,\n",
    "                      train_windows_multiple24,train_labels_multiple24,\n",
    "                      val_windows_multiple24,val_labels_multiple24)\n",
    "print()\n",
    "compile_and_fit_multi(multi_lstm_model72,\n",
    "                      train_windows_multiple72,train_labels_multiple72,\n",
    "                      val_windows_multiple72,val_labels_multiple72)\n",
    "print()\n",
    "compile_and_fit_multi(multi_lstm_model120,\n",
    "                      train_windows_multiple120,train_labels_multiple120,\n",
    "                      val_windows_multiple120,val_labels_multiple120)"
   ]
  },
  {
   "cell_type": "code",
   "execution_count": 37,
   "metadata": {},
   "outputs": [
    {
     "name": "stdout",
     "output_type": "stream",
     "text": [
      "140/140 [==============================] - 1s 5ms/step - loss: 0.0841 - mean_absolute_error: 0.2215\n",
      "137/137 [==============================] - 1s 6ms/step - loss: 0.1539 - mean_absolute_error: 0.2930\n",
      "134/134 [==============================] - 1s 7ms/step - loss: 0.2275 - mean_absolute_error: 0.3529\n"
     ]
    }
   ],
   "source": [
    "multi_lstm_loss24,multi_lstm_test24 = multi_lstm_model24.evaluate(test_windows_multiple24,test_labels_multiple24)\n",
    "multi_lstm_loss72,multi_lstm_test72 = multi_lstm_model72.evaluate(test_windows_multiple72,test_labels_multiple72)\n",
    "multi_lstm_loss120,multi_lstm_test120 = multi_lstm_model120.evaluate(test_windows_multiple120,test_labels_multiple120)"
   ]
  },
  {
   "cell_type": "markdown",
   "metadata": {},
   "source": [
    "# Results"
   ]
  },
  {
   "cell_type": "code",
   "execution_count": 38,
   "metadata": {},
   "outputs": [
    {
     "data": {
      "text/html": [
       "<style  type=\"text/css\" >\n",
       "    #T_c3a03146_9dec_11eb_8444_7c8ae145525d th {\n",
       "          font-size: 18px;\n",
       "    }    #T_c3a03146_9dec_11eb_8444_7c8ae145525d td {\n",
       "          font-size: 16px;\n",
       "    }</style><table id=\"T_c3a03146_9dec_11eb_8444_7c8ae145525d\" ><thead>    <tr>        <th class=\"blank level0\" ></th>        <th class=\"col_heading level0 col0\" >Window Size 24</th>        <th class=\"col_heading level0 col1\" >Window Size 72</th>        <th class=\"col_heading level0 col2\" >Window Size 120</th>    </tr></thead><tbody>\n",
       "                <tr>\n",
       "                        <th id=\"T_c3a03146_9dec_11eb_8444_7c8ae145525dlevel0_row0\" class=\"row_heading level0 row0\" >Baseline(Last Step)</th>\n",
       "                        <td id=\"T_c3a03146_9dec_11eb_8444_7c8ae145525drow0_col0\" class=\"data row0 col0\" >0.131695</td>\n",
       "                        <td id=\"T_c3a03146_9dec_11eb_8444_7c8ae145525drow0_col1\" class=\"data row0 col1\" >0.131968</td>\n",
       "                        <td id=\"T_c3a03146_9dec_11eb_8444_7c8ae145525drow0_col2\" class=\"data row0 col2\" >0.131428</td>\n",
       "            </tr>\n",
       "            <tr>\n",
       "                        <th id=\"T_c3a03146_9dec_11eb_8444_7c8ae145525dlevel0_row1\" class=\"row_heading level0 row1\" >Linear</th>\n",
       "                        <td id=\"T_c3a03146_9dec_11eb_8444_7c8ae145525drow1_col0\" class=\"data row1 col0\" >0.518141</td>\n",
       "                        <td id=\"T_c3a03146_9dec_11eb_8444_7c8ae145525drow1_col1\" class=\"data row1 col1\" >0.532831</td>\n",
       "                        <td id=\"T_c3a03146_9dec_11eb_8444_7c8ae145525drow1_col2\" class=\"data row1 col2\" >0.541920</td>\n",
       "            </tr>\n",
       "            <tr>\n",
       "                        <th id=\"T_c3a03146_9dec_11eb_8444_7c8ae145525dlevel0_row2\" class=\"row_heading level0 row2\" >Dense</th>\n",
       "                        <td id=\"T_c3a03146_9dec_11eb_8444_7c8ae145525drow2_col0\" class=\"data row2 col0\" >0.529515</td>\n",
       "                        <td id=\"T_c3a03146_9dec_11eb_8444_7c8ae145525drow2_col1\" class=\"data row2 col1\" >0.541989</td>\n",
       "                        <td id=\"T_c3a03146_9dec_11eb_8444_7c8ae145525drow2_col2\" class=\"data row2 col2\" >0.548427</td>\n",
       "            </tr>\n",
       "            <tr>\n",
       "                        <th id=\"T_c3a03146_9dec_11eb_8444_7c8ae145525dlevel0_row3\" class=\"row_heading level0 row3\" >LSTM</th>\n",
       "                        <td id=\"T_c3a03146_9dec_11eb_8444_7c8ae145525drow3_col0\" class=\"data row3 col0\" >0.078646</td>\n",
       "                        <td id=\"T_c3a03146_9dec_11eb_8444_7c8ae145525drow3_col1\" class=\"data row3 col1\" >0.079106</td>\n",
       "                        <td id=\"T_c3a03146_9dec_11eb_8444_7c8ae145525drow3_col2\" class=\"data row3 col2\" >0.078998</td>\n",
       "            </tr>\n",
       "    </tbody></table>"
      ],
      "text/plain": [
       "<pandas.io.formats.style.Styler at 0x1b6eeab6f88>"
      ]
     },
     "execution_count": 38,
     "metadata": {},
     "output_type": "execute_result"
    }
   ],
   "source": [
    "single_index = ['Baseline(Last Step)','Linear','Dense','LSTM']\n",
    "columns = ['Window Size 24','Window Size 72','Window Size 120']\n",
    "scores24 = [baseline_test24,linear_test24,dense_test24,lstm_test24]\n",
    "scores72 = [baseline_test72,linear_test72,dense_test72,lstm_test72]\n",
    "scores120 = [baseline_test120,linear_test120,dense_test120,lstm_test120]\n",
    "\n",
    "singlestep = pd.DataFrame([scores24,scores72,scores120],index=columns,columns=single_index).transpose()\n",
    "\n",
    "heading_properties = [('font-size', '18px')]\n",
    "\n",
    "cell_properties = [('font-size', '16px')]\n",
    "\n",
    "dfstyle = [dict(selector=\"th\", props=heading_properties),\\\n",
    " dict(selector=\"td\", props=cell_properties)]\n",
    "singlestep.style.set_table_styles(dfstyle)"
   ]
  },
  {
   "cell_type": "code",
   "execution_count": 39,
   "metadata": {},
   "outputs": [
    {
     "data": {
      "text/html": [
       "<style  type=\"text/css\" >\n",
       "    #T_c3a44e82_9dec_11eb_a02d_7c8ae145525d th {\n",
       "          font-size: 18px;\n",
       "    }    #T_c3a44e82_9dec_11eb_a02d_7c8ae145525d td {\n",
       "          font-size: 16px;\n",
       "    }</style><table id=\"T_c3a44e82_9dec_11eb_a02d_7c8ae145525d\" ><thead>    <tr>        <th class=\"blank level0\" ></th>        <th class=\"col_heading level0 col0\" >Window and Label Size 24</th>        <th class=\"col_heading level0 col1\" >Window and Label Size 72</th>        <th class=\"col_heading level0 col2\" >Window and Label Size 120</th>    </tr></thead><tbody>\n",
       "                <tr>\n",
       "                        <th id=\"T_c3a44e82_9dec_11eb_a02d_7c8ae145525dlevel0_row0\" class=\"row_heading level0 row0\" >Baseline(Repeat)</th>\n",
       "                        <td id=\"T_c3a44e82_9dec_11eb_a02d_7c8ae145525drow0_col0\" class=\"data row0 col0\" >0.212223</td>\n",
       "                        <td id=\"T_c3a44e82_9dec_11eb_a02d_7c8ae145525drow0_col1\" class=\"data row0 col1\" >0.390388</td>\n",
       "                        <td id=\"T_c3a44e82_9dec_11eb_a02d_7c8ae145525drow0_col2\" class=\"data row0 col2\" >0.438763</td>\n",
       "            </tr>\n",
       "            <tr>\n",
       "                        <th id=\"T_c3a44e82_9dec_11eb_a02d_7c8ae145525dlevel0_row1\" class=\"row_heading level0 row1\" >Linear</th>\n",
       "                        <td id=\"T_c3a44e82_9dec_11eb_a02d_7c8ae145525drow1_col0\" class=\"data row1 col0\" >0.803180</td>\n",
       "                        <td id=\"T_c3a44e82_9dec_11eb_a02d_7c8ae145525drow1_col1\" class=\"data row1 col1\" >0.808032</td>\n",
       "                        <td id=\"T_c3a44e82_9dec_11eb_a02d_7c8ae145525drow1_col2\" class=\"data row1 col2\" >0.814345</td>\n",
       "            </tr>\n",
       "            <tr>\n",
       "                        <th id=\"T_c3a44e82_9dec_11eb_a02d_7c8ae145525dlevel0_row2\" class=\"row_heading level0 row2\" >LSTM</th>\n",
       "                        <td id=\"T_c3a44e82_9dec_11eb_a02d_7c8ae145525drow2_col0\" class=\"data row2 col0\" >0.221473</td>\n",
       "                        <td id=\"T_c3a44e82_9dec_11eb_a02d_7c8ae145525drow2_col1\" class=\"data row2 col1\" >0.292976</td>\n",
       "                        <td id=\"T_c3a44e82_9dec_11eb_a02d_7c8ae145525drow2_col2\" class=\"data row2 col2\" >0.352899</td>\n",
       "            </tr>\n",
       "    </tbody></table>"
      ],
      "text/plain": [
       "<pandas.io.formats.style.Styler at 0x1b48b291ec8>"
      ]
     },
     "execution_count": 39,
     "metadata": {},
     "output_type": "execute_result"
    }
   ],
   "source": [
    "multi_index = ['Baseline(Repeat)','Linear','LSTM']\n",
    "columns_m = ['Window and Label Size 24','Window and Label Size 72','Window and Label Size 120']\n",
    "scores_m24 = [baseline_multi24,multi_linear_test24,multi_lstm_test24]\n",
    "scores_m72 = [baseline_multi72,multi_linear_test72,multi_lstm_test72]\n",
    "scores_m120 = [baseline_multi120,multi_linear_test120,multi_lstm_test120]\n",
    "\n",
    "multistep = pd.DataFrame([scores_m24,scores_m72,scores_m120],index=columns_m,columns=multi_index).transpose()\n",
    "\n",
    "multistep.style.set_table_styles(dfstyle)"
   ]
  },
  {
   "cell_type": "code",
   "execution_count": null,
   "metadata": {},
   "outputs": [],
   "source": []
  },
  {
   "cell_type": "code",
   "execution_count": null,
   "metadata": {},
   "outputs": [],
   "source": []
  },
  {
   "cell_type": "code",
   "execution_count": null,
   "metadata": {},
   "outputs": [],
   "source": []
  },
  {
   "cell_type": "code",
   "execution_count": null,
   "metadata": {},
   "outputs": [],
   "source": []
  },
  {
   "cell_type": "code",
   "execution_count": 89,
   "metadata": {},
   "outputs": [
    {
     "name": "stderr",
     "output_type": "stream",
     "text": [
      "C:\\Users\\Divyam Khanna\\anaconda3\\lib\\site-packages\\pandas\\core\\indexing.py:671: SettingWithCopyWarning: \n",
      "A value is trying to be set on a copy of a slice from a DataFrame\n",
      "\n",
      "See the caveats in the documentation: https://pandas.pydata.org/pandas-docs/stable/user_guide/indexing.html#returning-a-view-versus-a-copy\n",
      "  self._setitem_with_indexer(indexer, value)\n"
     ]
    },
    {
     "data": {
      "text/html": [
       "<div>\n",
       "<style scoped>\n",
       "    .dataframe tbody tr th:only-of-type {\n",
       "        vertical-align: middle;\n",
       "    }\n",
       "\n",
       "    .dataframe tbody tr th {\n",
       "        vertical-align: top;\n",
       "    }\n",
       "\n",
       "    .dataframe thead th {\n",
       "        text-align: right;\n",
       "    }\n",
       "</style>\n",
       "<table border=\"1\" class=\"dataframe\">\n",
       "  <thead>\n",
       "    <tr style=\"text-align: right;\">\n",
       "      <th></th>\n",
       "      <th>temperature</th>\n",
       "      <th>humidity</th>\n",
       "      <th>pressure</th>\n",
       "      <th>Wx</th>\n",
       "      <th>Wy</th>\n",
       "      <th>Day sin</th>\n",
       "      <th>Day cos</th>\n",
       "      <th>Year sin</th>\n",
       "      <th>Year cos</th>\n",
       "    </tr>\n",
       "  </thead>\n",
       "  <tbody>\n",
       "    <tr>\n",
       "      <th>0</th>\n",
       "      <td>0.861852</td>\n",
       "      <td>-1.602703</td>\n",
       "      <td>-0.480302</td>\n",
       "      <td>0.091631</td>\n",
       "      <td>-1.300145</td>\n",
       "      <td>0.999934</td>\n",
       "      <td>-0.999895</td>\n",
       "      <td>-0.949455</td>\n",
       "      <td>0.974841</td>\n",
       "    </tr>\n",
       "    <tr>\n",
       "      <th>1</th>\n",
       "      <td>0.436449</td>\n",
       "      <td>-1.420340</td>\n",
       "      <td>-0.480302</td>\n",
       "      <td>-0.276444</td>\n",
       "      <td>-1.276811</td>\n",
       "      <td>0.707021</td>\n",
       "      <td>-1.224618</td>\n",
       "      <td>-0.948693</td>\n",
       "      <td>0.975512</td>\n",
       "    </tr>\n",
       "    <tr>\n",
       "      <th>2</th>\n",
       "      <td>0.086845</td>\n",
       "      <td>-1.648294</td>\n",
       "      <td>-0.250485</td>\n",
       "      <td>0.091631</td>\n",
       "      <td>-0.532188</td>\n",
       "      <td>0.365917</td>\n",
       "      <td>-1.365884</td>\n",
       "      <td>-0.947931</td>\n",
       "      <td>0.976183</td>\n",
       "    </tr>\n",
       "    <tr>\n",
       "      <th>3</th>\n",
       "      <td>-0.009064</td>\n",
       "      <td>0.494472</td>\n",
       "      <td>-0.250485</td>\n",
       "      <td>0.091631</td>\n",
       "      <td>0.235769</td>\n",
       "      <td>-0.000133</td>\n",
       "      <td>-1.414068</td>\n",
       "      <td>-0.947168</td>\n",
       "      <td>0.976854</td>\n",
       "    </tr>\n",
       "    <tr>\n",
       "      <th>4</th>\n",
       "      <td>-0.173037</td>\n",
       "      <td>-0.782069</td>\n",
       "      <td>-0.250485</td>\n",
       "      <td>1.035947</td>\n",
       "      <td>0.584414</td>\n",
       "      <td>-0.366183</td>\n",
       "      <td>-1.365884</td>\n",
       "      <td>-0.946405</td>\n",
       "      <td>0.977524</td>\n",
       "    </tr>\n",
       "    <tr>\n",
       "      <th>...</th>\n",
       "      <td>...</td>\n",
       "      <td>...</td>\n",
       "      <td>...</td>\n",
       "      <td>...</td>\n",
       "      <td>...</td>\n",
       "      <td>...</td>\n",
       "      <td>...</td>\n",
       "      <td>...</td>\n",
       "      <td>...</td>\n",
       "    </tr>\n",
       "    <tr>\n",
       "      <th>235</th>\n",
       "      <td>-9999.000000</td>\n",
       "      <td>-1.693885</td>\n",
       "      <td>-0.250485</td>\n",
       "      <td>1.093720</td>\n",
       "      <td>0.485791</td>\n",
       "      <td>1.224694</td>\n",
       "      <td>0.707043</td>\n",
       "      <td>-0.758388</td>\n",
       "      <td>1.116554</td>\n",
       "    </tr>\n",
       "    <tr>\n",
       "      <th>236</th>\n",
       "      <td>-9999.000000</td>\n",
       "      <td>-1.830657</td>\n",
       "      <td>-0.250485</td>\n",
       "      <td>1.093720</td>\n",
       "      <td>0.485791</td>\n",
       "      <td>1.365984</td>\n",
       "      <td>0.365995</td>\n",
       "      <td>-0.757527</td>\n",
       "      <td>1.117085</td>\n",
       "    </tr>\n",
       "    <tr>\n",
       "      <th>237</th>\n",
       "      <td>-9999.000000</td>\n",
       "      <td>-1.739475</td>\n",
       "      <td>-0.365393</td>\n",
       "      <td>1.093720</td>\n",
       "      <td>0.485791</td>\n",
       "      <td>1.414175</td>\n",
       "      <td>0.000006</td>\n",
       "      <td>-0.756666</td>\n",
       "      <td>1.117615</td>\n",
       "    </tr>\n",
       "    <tr>\n",
       "      <th>238</th>\n",
       "      <td>-9999.000000</td>\n",
       "      <td>-2.149792</td>\n",
       "      <td>-0.250485</td>\n",
       "      <td>-1.900199</td>\n",
       "      <td>-0.289545</td>\n",
       "      <td>1.365984</td>\n",
       "      <td>-0.365983</td>\n",
       "      <td>-0.755804</td>\n",
       "      <td>1.118145</td>\n",
       "    </tr>\n",
       "    <tr>\n",
       "      <th>239</th>\n",
       "      <td>-9999.000000</td>\n",
       "      <td>-0.234980</td>\n",
       "      <td>-0.365393</td>\n",
       "      <td>-0.270852</td>\n",
       "      <td>-0.485874</td>\n",
       "      <td>1.224694</td>\n",
       "      <td>-0.707031</td>\n",
       "      <td>-0.754942</td>\n",
       "      <td>1.118674</td>\n",
       "    </tr>\n",
       "  </tbody>\n",
       "</table>\n",
       "<p>240 rows × 9 columns</p>\n",
       "</div>"
      ],
      "text/plain": [
       "     temperature  humidity  pressure        Wx        Wy   Day sin   Day cos  \\\n",
       "0       0.861852 -1.602703 -0.480302  0.091631 -1.300145  0.999934 -0.999895   \n",
       "1       0.436449 -1.420340 -0.480302 -0.276444 -1.276811  0.707021 -1.224618   \n",
       "2       0.086845 -1.648294 -0.250485  0.091631 -0.532188  0.365917 -1.365884   \n",
       "3      -0.009064  0.494472 -0.250485  0.091631  0.235769 -0.000133 -1.414068   \n",
       "4      -0.173037 -0.782069 -0.250485  1.035947  0.584414 -0.366183 -1.365884   \n",
       "..           ...       ...       ...       ...       ...       ...       ...   \n",
       "235 -9999.000000 -1.693885 -0.250485  1.093720  0.485791  1.224694  0.707043   \n",
       "236 -9999.000000 -1.830657 -0.250485  1.093720  0.485791  1.365984  0.365995   \n",
       "237 -9999.000000 -1.739475 -0.365393  1.093720  0.485791  1.414175  0.000006   \n",
       "238 -9999.000000 -2.149792 -0.250485 -1.900199 -0.289545  1.365984 -0.365983   \n",
       "239 -9999.000000 -0.234980 -0.365393 -0.270852 -0.485874  1.224694 -0.707031   \n",
       "\n",
       "     Year sin  Year cos  \n",
       "0   -0.949455  0.974841  \n",
       "1   -0.948693  0.975512  \n",
       "2   -0.947931  0.976183  \n",
       "3   -0.947168  0.976854  \n",
       "4   -0.946405  0.977524  \n",
       "..        ...       ...  \n",
       "235 -0.758388  1.116554  \n",
       "236 -0.757527  1.117085  \n",
       "237 -0.756666  1.117615  \n",
       "238 -0.755804  1.118145  \n",
       "239 -0.754942  1.118674  \n",
       "\n",
       "[240 rows x 9 columns]"
      ]
     },
     "execution_count": 89,
     "metadata": {},
     "output_type": "execute_result"
    }
   ],
   "source": [
    "kaggleset = pd.read_csv('ps6_test.csv')\n",
    "#Joining wind direction and wind speed to wind vector\n",
    "wd_rad = kaggleset.wind_direction*np.pi/180\n",
    "kaggleset['Wx'] = kaggleset.wind_speed*np.cos(wd_rad)\n",
    "kaggleset['Wy'] = kaggleset.wind_speed*np.sin(wd_rad)\n",
    "\n",
    "kaggleset = kaggleset.drop(['wind_direction','wind_speed'],axis=1)\n",
    "\n",
    "kaggleset['datetime'] = pd.to_datetime(kaggleset['datetime'])\n",
    "timestamp_h1 = kaggleset['datetime'].map(datetime.datetime.timestamp)/3600\n",
    "\n",
    "day = 24\n",
    "year = (365.2425)*day\n",
    "\n",
    "kaggleset['Day sin'] = np.sin(timestamp_h1 * (2 * np.pi / day))\n",
    "kaggleset['Day cos'] = np.cos(timestamp_h1 * (2 * np.pi / day))\n",
    "kaggleset['Year sin'] = np.sin(timestamp_h1 * (2 * np.pi / year))\n",
    "kaggleset['Year cos'] = np.cos(timestamp_h1 * (2 * np.pi / year))\n",
    "\n",
    "kaggleset = kaggleset.drop(['weather','datetime'],axis=1)\n",
    "\n",
    "for i in range(120):\n",
    "    kaggleset['temperature'].iloc[i] = (float(kaggleset['temperature'].iloc[i]) - train_mean['temperature']) / train_std['temperature']\n",
    "\n",
    "for col in ['humidity','pressure','Wx','Wy','Day sin','Day cos','Year sin','Year cos']:\n",
    "    kaggleset[col] = (kaggleset[col] - train_mean[col])/train_std[col]\n",
    "\n",
    "kaggleset['temperature'] = kaggleset['temperature'].replace('?',-9999)\n",
    "kaggleset"
   ]
  },
  {
   "cell_type": "code",
   "execution_count": 90,
   "metadata": {},
   "outputs": [],
   "source": [
    "def pred(window):\n",
    "    return lstm_model.predict(window.to_numpy().reshape(-1,120,9).astype('float64'))[0][0]"
   ]
  },
  {
   "cell_type": "code",
   "execution_count": 91,
   "metadata": {},
   "outputs": [],
   "source": [
    "for i in range(120):\n",
    "    value = pred(kaggleset[i:i+120])\n",
    "#     print(kaggleset[i:i+120])\n",
    "    kaggleset.at[i+120, 'temperature'] = value"
   ]
  },
  {
   "cell_type": "code",
   "execution_count": 94,
   "metadata": {},
   "outputs": [],
   "source": [
    "ans = kaggleset['temperature'][120:]"
   ]
  },
  {
   "cell_type": "code",
   "execution_count": 104,
   "metadata": {},
   "outputs": [
    {
     "data": {
      "text/html": [
       "<div>\n",
       "<style scoped>\n",
       "    .dataframe tbody tr th:only-of-type {\n",
       "        vertical-align: middle;\n",
       "    }\n",
       "\n",
       "    .dataframe tbody tr th {\n",
       "        vertical-align: top;\n",
       "    }\n",
       "\n",
       "    .dataframe thead th {\n",
       "        text-align: right;\n",
       "    }\n",
       "</style>\n",
       "<table border=\"1\" class=\"dataframe\">\n",
       "  <thead>\n",
       "    <tr style=\"text-align: right;\">\n",
       "      <th></th>\n",
       "      <th>Id</th>\n",
       "      <th>Predicted</th>\n",
       "    </tr>\n",
       "  </thead>\n",
       "  <tbody>\n",
       "    <tr>\n",
       "      <th>0</th>\n",
       "      <td>0</td>\n",
       "      <td>299.188582</td>\n",
       "    </tr>\n",
       "    <tr>\n",
       "      <th>1</th>\n",
       "      <td>1</td>\n",
       "      <td>297.590463</td>\n",
       "    </tr>\n",
       "    <tr>\n",
       "      <th>2</th>\n",
       "      <td>2</td>\n",
       "      <td>296.193212</td>\n",
       "    </tr>\n",
       "    <tr>\n",
       "      <th>3</th>\n",
       "      <td>3</td>\n",
       "      <td>294.973288</td>\n",
       "    </tr>\n",
       "    <tr>\n",
       "      <th>4</th>\n",
       "      <td>4</td>\n",
       "      <td>293.989738</td>\n",
       "    </tr>\n",
       "    <tr>\n",
       "      <th>...</th>\n",
       "      <td>...</td>\n",
       "      <td>...</td>\n",
       "    </tr>\n",
       "    <tr>\n",
       "      <th>115</th>\n",
       "      <td>115</td>\n",
       "      <td>295.339291</td>\n",
       "    </tr>\n",
       "    <tr>\n",
       "      <th>116</th>\n",
       "      <td>116</td>\n",
       "      <td>296.421828</td>\n",
       "    </tr>\n",
       "    <tr>\n",
       "      <th>117</th>\n",
       "      <td>117</td>\n",
       "      <td>296.952904</td>\n",
       "    </tr>\n",
       "    <tr>\n",
       "      <th>118</th>\n",
       "      <td>118</td>\n",
       "      <td>296.937486</td>\n",
       "    </tr>\n",
       "    <tr>\n",
       "      <th>119</th>\n",
       "      <td>119</td>\n",
       "      <td>296.519914</td>\n",
       "    </tr>\n",
       "  </tbody>\n",
       "</table>\n",
       "<p>120 rows × 2 columns</p>\n",
       "</div>"
      ],
      "text/plain": [
       "      Id   Predicted\n",
       "0      0  299.188582\n",
       "1      1  297.590463\n",
       "2      2  296.193212\n",
       "3      3  294.973288\n",
       "4      4  293.989738\n",
       "..   ...         ...\n",
       "115  115  295.339291\n",
       "116  116  296.421828\n",
       "117  117  296.952904\n",
       "118  118  296.937486\n",
       "119  119  296.519914\n",
       "\n",
       "[120 rows x 2 columns]"
      ]
     },
     "execution_count": 104,
     "metadata": {},
     "output_type": "execute_result"
    }
   ],
   "source": [
    "k = pd.DataFrame(ans*train_std['temperature'] + train_mean['temperature']).reset_index()\n",
    "k = k.drop('index',axis=1).reset_index()\n",
    "k.columns=['Id','Predicted']\n",
    "\n",
    "k"
   ]
  },
  {
   "cell_type": "code",
   "execution_count": 105,
   "metadata": {},
   "outputs": [],
   "source": [
    "k.to_csv('lstm_single.csv',index=False)"
   ]
  },
  {
   "cell_type": "code",
   "execution_count": null,
   "metadata": {},
   "outputs": [],
   "source": []
  }
 ],
 "metadata": {
  "kernelspec": {
   "display_name": "Python 3",
   "language": "python",
   "name": "python3"
  },
  "language_info": {
   "codemirror_mode": {
    "name": "ipython",
    "version": 3
   },
   "file_extension": ".py",
   "mimetype": "text/x-python",
   "name": "python",
   "nbconvert_exporter": "python",
   "pygments_lexer": "ipython3",
   "version": "3.7.7"
  }
 },
 "nbformat": 4,
 "nbformat_minor": 4
}
